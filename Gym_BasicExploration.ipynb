{
  "nbformat": 4,
  "nbformat_minor": 0,
  "metadata": {
    "colab": {
      "name": "Gym_BasicExploration.ipynb",
      "provenance": [],
      "collapsed_sections": [],
      "authorship_tag": "ABX9TyN63dp09yjP9MTbGbqpu8TV",
      "include_colab_link": true
    },
    "kernelspec": {
      "name": "python3",
      "display_name": "Python 3"
    },
    "accelerator": "GPU"
  },
  "cells": [
    {
      "cell_type": "markdown",
      "metadata": {
        "id": "view-in-github",
        "colab_type": "text"
      },
      "source": [
        "<a href=\"https://colab.research.google.com/github/AlvinChiew/ReinforcementLearning/blob/main/Gym_BasicExploration.ipynb\" target=\"_parent\"><img src=\"https://colab.research.google.com/assets/colab-badge.svg\" alt=\"Open In Colab\"/></a>"
      ]
    },
    {
      "cell_type": "markdown",
      "metadata": {
        "id": "A9wN1dJFTUll"
      },
      "source": [
        "# Install Packages \r\n",
        "- Override gym and pyvirtualdisplay versions to avoid pyglet base bug while running code on server\r\n",
        "    - ref: https://github.com/openai/gym/issues/1898\r\n",
        "        - Code with fix: https://colab.research.google.com/drive/17kpHsCZWd3DS8pHbT0r5icosRMU_459h?usp=sharing"
      ]
    },
    {
      "cell_type": "code",
      "metadata": {
        "colab": {
          "base_uri": "https://localhost:8080/"
        },
        "id": "TsRwBEbjF5Gp",
        "outputId": "63a96a9d-dc8e-4165-c68d-324fcb5c5e02"
      },
      "source": [
        "!apt-get install -y xvfb python-opengl x11-utils\r\n",
        "!pip install gym==0.17.2 pyvirtualdisplay==0.2.5"
      ],
      "execution_count": 1,
      "outputs": [
        {
          "output_type": "stream",
          "text": [
            "Reading package lists... Done\n",
            "Building dependency tree       \n",
            "Reading state information... Done\n",
            "The following additional packages will be installed:\n",
            "  libxxf86dga1\n",
            "Suggested packages:\n",
            "  libgle3 mesa-utils\n",
            "The following NEW packages will be installed:\n",
            "  libxxf86dga1 python-opengl x11-utils xvfb\n",
            "0 upgraded, 4 newly installed, 0 to remove and 14 not upgraded.\n",
            "Need to get 1,490 kB of archives.\n",
            "After this operation, 8,397 kB of additional disk space will be used.\n",
            "Get:1 http://archive.ubuntu.com/ubuntu bionic/main amd64 libxxf86dga1 amd64 2:1.1.4-1 [13.7 kB]\n",
            "Get:2 http://archive.ubuntu.com/ubuntu bionic/universe amd64 python-opengl all 3.1.0+dfsg-1 [496 kB]\n",
            "Get:3 http://archive.ubuntu.com/ubuntu bionic/main amd64 x11-utils amd64 7.7+3build1 [196 kB]\n",
            "Get:4 http://archive.ubuntu.com/ubuntu bionic-updates/universe amd64 xvfb amd64 2:1.19.6-1ubuntu4.8 [784 kB]\n",
            "Fetched 1,490 kB in 2s (628 kB/s)\n",
            "Selecting previously unselected package libxxf86dga1:amd64.\n",
            "(Reading database ... 144865 files and directories currently installed.)\n",
            "Preparing to unpack .../libxxf86dga1_2%3a1.1.4-1_amd64.deb ...\n",
            "Unpacking libxxf86dga1:amd64 (2:1.1.4-1) ...\n",
            "Selecting previously unselected package python-opengl.\n",
            "Preparing to unpack .../python-opengl_3.1.0+dfsg-1_all.deb ...\n",
            "Unpacking python-opengl (3.1.0+dfsg-1) ...\n",
            "Selecting previously unselected package x11-utils.\n",
            "Preparing to unpack .../x11-utils_7.7+3build1_amd64.deb ...\n",
            "Unpacking x11-utils (7.7+3build1) ...\n",
            "Selecting previously unselected package xvfb.\n",
            "Preparing to unpack .../xvfb_2%3a1.19.6-1ubuntu4.8_amd64.deb ...\n",
            "Unpacking xvfb (2:1.19.6-1ubuntu4.8) ...\n",
            "Setting up python-opengl (3.1.0+dfsg-1) ...\n",
            "Setting up xvfb (2:1.19.6-1ubuntu4.8) ...\n",
            "Setting up libxxf86dga1:amd64 (2:1.1.4-1) ...\n",
            "Setting up x11-utils (7.7+3build1) ...\n",
            "Processing triggers for man-db (2.8.3-2ubuntu0.1) ...\n",
            "Processing triggers for libc-bin (2.27-3ubuntu1.2) ...\n",
            "/sbin/ldconfig.real: /usr/local/lib/python3.6/dist-packages/ideep4py/lib/libmkldnn.so.0 is not a symbolic link\n",
            "\n",
            "Collecting gym==0.17.2\n",
            "\u001b[?25l  Downloading https://files.pythonhosted.org/packages/b3/99/7cc3e510678119cdac91f33fb9235b98448f09a6bdf0cafea2b108d9ce51/gym-0.17.2.tar.gz (1.6MB)\n",
            "\u001b[K     |████████████████████████████████| 1.6MB 5.7MB/s \n",
            "\u001b[?25hCollecting pyvirtualdisplay==0.2.5\n",
            "  Downloading https://files.pythonhosted.org/packages/69/ec/8221a07850d69fa3c57c02e526edd23d18c7c05d58ed103e3b19172757c1/PyVirtualDisplay-0.2.5-py2.py3-none-any.whl\n",
            "Requirement already satisfied: scipy in /usr/local/lib/python3.6/dist-packages (from gym==0.17.2) (1.4.1)\n",
            "Requirement already satisfied: numpy>=1.10.4 in /usr/local/lib/python3.6/dist-packages (from gym==0.17.2) (1.18.5)\n",
            "Requirement already satisfied: pyglet<=1.5.0,>=1.4.0 in /usr/local/lib/python3.6/dist-packages (from gym==0.17.2) (1.5.0)\n",
            "Requirement already satisfied: cloudpickle<1.4.0,>=1.2.0 in /usr/local/lib/python3.6/dist-packages (from gym==0.17.2) (1.3.0)\n",
            "Collecting EasyProcess\n",
            "  Downloading https://files.pythonhosted.org/packages/48/3c/75573613641c90c6d094059ac28adb748560d99bd27ee6f80cce398f404e/EasyProcess-0.3-py2.py3-none-any.whl\n",
            "Requirement already satisfied: future in /usr/local/lib/python3.6/dist-packages (from pyglet<=1.5.0,>=1.4.0->gym==0.17.2) (0.16.0)\n",
            "Building wheels for collected packages: gym\n",
            "  Building wheel for gym (setup.py) ... \u001b[?25l\u001b[?25hdone\n",
            "  Created wheel for gym: filename=gym-0.17.2-cp36-none-any.whl size=1650893 sha256=e2874340fd483d1d8925e0ca1da3e1e64012f68adebb0f781fcf87e6f9af673c\n",
            "  Stored in directory: /root/.cache/pip/wheels/87/e0/91/f56e44e8062f8cd549673da49f59e1d4fe8b17398119b1d221\n",
            "Successfully built gym\n",
            "Installing collected packages: gym, EasyProcess, pyvirtualdisplay\n",
            "  Found existing installation: gym 0.17.3\n",
            "    Uninstalling gym-0.17.3:\n",
            "      Successfully uninstalled gym-0.17.3\n",
            "Successfully installed EasyProcess-0.3 gym-0.17.2 pyvirtualdisplay-0.2.5\n"
          ],
          "name": "stdout"
        }
      ]
    },
    {
      "cell_type": "markdown",
      "metadata": {
        "id": "uxfQtZH3UcNj"
      },
      "source": [
        "# Import Modules"
      ]
    },
    {
      "cell_type": "code",
      "metadata": {
        "id": "0o2-Sq1pOPH1"
      },
      "source": [
        "import gym\r\n",
        "from IPython import display\r\n",
        "import matplotlib\r\n",
        "import matplotlib.pyplot as plt\r\n",
        "%matplotlib inline"
      ],
      "execution_count": 2,
      "outputs": []
    },
    {
      "cell_type": "markdown",
      "metadata": {
        "id": "CJ_o0qXgUnTW"
      },
      "source": [
        "# Functions"
      ]
    },
    {
      "cell_type": "code",
      "metadata": {
        "id": "wztVfufeJds-"
      },
      "source": [
        "# Replace env.render() with matplotlib & IPython to show frames of observation\r\n",
        "# ref: https://stackoverflow.com/a/45179251\r\n",
        "\r\n",
        "def show_snapshot(env, step=0, project='', info=''):\r\n",
        "    plt.figure(1)\r\n",
        "    plt.clf()\r\n",
        "    plt.imshow(env.render(mode='rgb_array'))\r\n",
        "    plt.title(f\"{project} | Step: {step}; {info}\")\r\n",
        "    plt.axis('off')\r\n",
        "\r\n",
        "    display.display(plt.gcf())  \r\n",
        "    display.clear_output(wait=True)    "
      ],
      "execution_count": 3,
      "outputs": []
    },
    {
      "cell_type": "markdown",
      "metadata": {
        "id": "VPxIwyG2b7rG"
      },
      "source": [
        "# Case : Breakout-v0"
      ]
    },
    {
      "cell_type": "markdown",
      "metadata": {
        "id": "69KF0HFgcBpR"
      },
      "source": [
        "ref: https://gym.openai.com/envs/Breakout-v0/\r\n",
        "\r\n",
        "Maximize your score in the Atari 2600 game Breakout. In this environment, the observation is an RGB image of the screen, which is an array of shape (210, 160, 3) Each action is repeatedly performed for a duration of kk frames, where kk is uniformly sampled from \\{2, 3, 4\\}."
      ]
    },
    {
      "cell_type": "code",
      "metadata": {
        "colab": {
          "base_uri": "https://localhost:8080/",
          "height": 264
        },
        "id": "kyCHp22TJGtj",
        "outputId": "fd0e137b-9c1f-410b-a583-dfda4c2f4802"
      },
      "source": [
        "env = gym.make('Breakout-v0')\r\n",
        "env.reset()\r\n",
        "for t in range(200):\r\n",
        "    # env.render()    # render in PyCharm\r\n",
        "    show_snapshot(env, t+1, 'Breakout-v0')\r\n",
        "    action = env.action_space.sample()\r\n",
        "    env.step(action)"
      ],
      "execution_count": 7,
      "outputs": [
        {
          "output_type": "display_data",
          "data": {
            "image/png": "[encoded data removed]",
            "text/plain": [
              "<Figure size 432x288 with 1 Axes>"
            ]
          },
          "metadata": {
            "tags": [],
            "needs_background": "light"
          }
        }
      ]
    },
    {
      "cell_type": "markdown",
      "metadata": {
        "id": "z-jMYhD8VaTW"
      },
      "source": [
        "# Case : CartPole-v1"
      ]
    },
    {
      "cell_type": "markdown",
      "metadata": {
        "id": "Tgz6ZEdrVs6n"
      },
      "source": [
        "ref: https://gym.openai.com/envs/CartPole-v1/\r\n",
        "\r\n",
        "A pole is attached by an un-actuated joint to a cart, which moves along a frictionless track. The system is controlled by applying a force of +1 or -1 to the cart. The pendulum starts upright, and the goal is to prevent it from falling over. A reward of +1 is provided for every timestep that the pole remains upright. The episode ends when the pole is more than 15 degrees from vertical, or the cart moves more than 2.4 units from the center."
      ]
    },
    {
      "cell_type": "code",
      "metadata": {
        "colab": {
          "base_uri": "https://localhost:8080/"
        },
        "id": "RtS76OYf_ymS",
        "outputId": "51a93ea1-efd6-47aa-a706-6e5b2a61b955"
      },
      "source": [
        "env = gym.make('CartPole-v1')\r\n",
        "observation = env.reset()\r\n",
        "\r\n",
        "for t in range(10000):\r\n",
        "    # env.render()      # render in PyCharm\r\n",
        "    print(observation)\r\n",
        "    action = env.action_space.sample()\r\n",
        "    observation, reward, done, info = env.step(action)   \r\n",
        "    print(observation)\r\n",
        "\r\n",
        "    if done:\r\n",
        "        print(f\"Episode finished after {t+1} timesteps\")\r\n",
        "        break\r\n",
        "\r\n",
        "env.close()"
      ],
      "execution_count": 5,
      "outputs": [
        {
          "output_type": "stream",
          "text": [
            "[-0.01616416  0.01323581 -0.04703273 -0.03069829]\n",
            "[-0.01589944  0.20899958 -0.04764669 -0.33784175]\n",
            "[-0.01589944  0.20899958 -0.04764669 -0.33784175]\n",
            "[-0.01171945  0.01458689 -0.05440353 -0.06055649]\n",
            "[-0.01171945  0.01458689 -0.05440353 -0.06055649]\n",
            "[-0.01142771 -0.17971453 -0.05561466  0.21447769]\n",
            "[-0.01142771 -0.17971453 -0.05561466  0.21447769]\n",
            "[-0.015022   -0.3739991  -0.0513251   0.48911169]\n",
            "[-0.015022   -0.3739991  -0.0513251   0.48911169]\n",
            "[-0.02250198 -0.17819205 -0.04154287  0.18070492]\n",
            "[-0.02250198 -0.17819205 -0.04154287  0.18070492]\n",
            "[-0.02606582  0.01749898 -0.03792877 -0.12478846]\n",
            "[-0.02606582  0.01749898 -0.03792877 -0.12478846]\n",
            "[-0.02571584  0.2131432  -0.04042454 -0.42919211]\n",
            "[-0.02571584  0.2131432  -0.04042454 -0.42919211]\n",
            "[-0.02145298  0.01861635 -0.04900838 -0.1495218 ]\n",
            "[-0.02145298  0.01861635 -0.04900838 -0.1495218 ]\n",
            "[-0.02108065 -0.1757708  -0.05199882  0.12730615]\n",
            "[-0.02108065 -0.1757708  -0.05199882  0.12730615]\n",
            "[-0.02459607  0.02005601 -0.04945269 -0.18131781]\n",
            "[-0.02459607  0.02005601 -0.04945269 -0.18131781]\n",
            "[-0.02419495  0.21584944 -0.05307905 -0.48918207]\n",
            "[-0.02419495  0.21584944 -0.05307905 -0.48918207]\n",
            "[-0.01987796  0.02151493 -0.06286269 -0.21368876]\n",
            "[-0.01987796  0.02151493 -0.06286269 -0.21368876]\n",
            "[-0.01944766  0.21747666 -0.06713647 -0.52552022]\n",
            "[-0.01944766  0.21747666 -0.06713647 -0.52552022]\n",
            "[-0.01509813  0.0233605  -0.07764687 -0.25472524]\n",
            "[-0.01509813  0.0233605  -0.07764687 -0.25472524]\n",
            "[-0.01463092 -0.17057188 -0.08274138  0.0124916 ]\n",
            "[-0.01463092 -0.17057188 -0.08274138  0.0124916 ]\n",
            "[-0.01804236  0.02563322 -0.08249154 -0.30510741]\n",
            "[-0.01804236  0.02563322 -0.08249154 -0.30510741]\n",
            "[-0.01752969 -0.16822222 -0.08859369 -0.03953807]\n",
            "[-0.01752969 -0.16822222 -0.08859369 -0.03953807]\n",
            "[-0.02089414 -0.3619694  -0.08938445  0.22393044]\n",
            "[-0.02089414 -0.3619694  -0.08938445  0.22393044]\n",
            "[-0.02813352 -0.16569117 -0.08490585 -0.0955556 ]\n",
            "[-0.02813352 -0.16569117 -0.08490585 -0.0955556 ]\n",
            "[-0.03144735  0.0305386  -0.08681696 -0.41377226]\n",
            "[-0.03144735  0.0305386  -0.08681696 -0.41377226]\n",
            "[-0.03083657  0.22677695 -0.0950924  -0.7325133 ]\n",
            "[-0.03083657  0.22677695 -0.0950924  -0.7325133 ]\n",
            "[-0.02630104  0.42307526 -0.10974267 -1.05354555]\n",
            "[-0.02630104  0.42307526 -0.10974267 -1.05354555]\n",
            "[-0.01783953  0.22956582 -0.13081358 -0.79722714]\n",
            "[-0.01783953  0.22956582 -0.13081358 -0.79722714]\n",
            "[-0.01324821  0.03645813 -0.14675812 -0.54839005]\n",
            "[-0.01324821  0.03645813 -0.14675812 -0.54839005]\n",
            "[-0.01251905 -0.15633044 -0.15772592 -0.30530798]\n",
            "[-0.01251905 -0.15633044 -0.15772592 -0.30530798]\n",
            "[-0.01564566 -0.34889436 -0.16383208 -0.06622693]\n",
            "[-0.01564566 -0.34889436 -0.16383208 -0.06622693]\n",
            "[-0.02262355 -0.54133465 -0.16515662  0.17061676]\n",
            "[-0.02262355 -0.54133465 -0.16515662  0.17061676]\n",
            "[-0.03345024 -0.34428135 -0.16174429 -0.16927673]\n",
            "[-0.03345024 -0.34428135 -0.16174429 -0.16927673]\n",
            "[-0.04033587 -0.53676314 -0.16512982  0.06833177]\n",
            "[-0.04033587 -0.53676314 -0.16512982  0.06833177]\n",
            "[-0.05107113 -0.72918002 -0.16376319  0.30470309]\n",
            "[-0.05107113 -0.72918002 -0.16376319  0.30470309]\n",
            "[-0.06565473 -0.92163561 -0.15766912  0.54159263]\n",
            "[-0.06565473 -0.92163561 -0.15766912  0.54159263]\n",
            "[-0.08408744 -0.72468996 -0.14683727  0.20367564]\n",
            "[-0.08408744 -0.72468996 -0.14683727  0.20367564]\n",
            "[-0.09858124 -0.52780659 -0.14276376 -0.13148654]\n",
            "[-0.09858124 -0.52780659 -0.14276376 -0.13148654]\n",
            "[-0.10913737 -0.33095888 -0.14539349 -0.46558429]\n",
            "[-0.10913737 -0.33095888 -0.14539349 -0.46558429]\n",
            "[-0.11575655 -0.52375945 -0.15470518 -0.22203003]\n",
            "[-0.11575655 -0.52375945 -0.15470518 -0.22203003]\n",
            "[-0.12623174 -0.32680362 -0.15914578 -0.55923753]\n",
            "[-0.12623174 -0.32680362 -0.15914578 -0.55923753]\n",
            "[-0.13276781 -0.12984792 -0.17033053 -0.8975293 ]\n",
            "[-0.13276781 -0.12984792 -0.17033053 -0.8975293 ]\n",
            "[-0.13536477  0.06712252 -0.18828111 -1.23854473]\n",
            "[-0.13536477  0.06712252 -0.18828111 -1.23854473]\n",
            "[-0.13402232 -0.12514982 -0.21305201 -1.01026132]\n",
            "Episode finished after 39 timesteps\n"
          ],
          "name": "stdout"
        }
      ]
    }
  ]
}